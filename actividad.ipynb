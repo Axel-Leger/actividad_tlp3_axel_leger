{
 "cells": [
  {
   "cell_type": "markdown",
   "id": "498731c6",
   "metadata": {},
   "source": [
    "# Actividad - Trabajando con Series de Pandas.\n",
    "## Criterios de evaluación.\n",
    "\n",
    "* Se deben utilizar nombres de variables descriptivos y claros (Utilizar la nomeclatura correspondiente para los nombres de variables).\n",
    "* Comentarios claros y concisos que expliquen el propósito de cada sección del código.\n",
    "* Utilizar mensajes de commit **descriptivos**. (Puedes utilizar la extension CONVENTIONAL COMMIT de VS-CODE). \n",
    "* Entrega en tiempo y forma.\n",
    "* Todo el código desarrollado debe ser subido a un repositorio en GitHub (el nombre del repositorio de seguir la siguiente estructura: actividad_tlp3_nombre_apellido).\n",
    "* Para resolver las actividades se debe insertar casillas de codigo entre cada actividad del cuaderno de Jupyter\n",
    "\n",
    "### ¡Importante!\n",
    "**El incumplimiento de los criterios de evaluación restará puntos en la nota final del práctico!**"
   ]
  },
  {
   "cell_type": "markdown",
   "id": "b361a7b6",
   "metadata": {},
   "source": [
    "### **Actividad 1:** \n",
    "\n",
    "Crear Series desde diferentes estructuras.\n",
    "* Crea una Series con los números del 1 al 5\n",
    "* Crea una Series a partir de un diccionario con nombres de países como claves y sus capitales como valores."
   ]
  },
  {
   "cell_type": "code",
   "execution_count": 3,
   "id": "3b8ccaab",
   "metadata": {},
   "outputs": [],
   "source": [
    "from pandas import Series"
   ]
  },
  {
   "cell_type": "code",
   "execution_count": 4,
   "id": "26009294",
   "metadata": {},
   "outputs": [
    {
     "data": {
      "text/plain": [
       "0    1\n",
       "1    2\n",
       "2    3\n",
       "3    4\n",
       "4    5\n",
       "dtype: int64"
      ]
     },
     "execution_count": 4,
     "metadata": {},
     "output_type": "execute_result"
    }
   ],
   "source": [
    "\n",
    "# todo:\n",
    "\n",
    "lista = [1,2,3,4,5]\n",
    "\n",
    "serie_uno = Series(lista)\n",
    "serie_uno"
   ]
  },
  {
   "cell_type": "code",
   "execution_count": 6,
   "id": "9e111b87",
   "metadata": {},
   "outputs": [
    {
     "data": {
      "text/plain": [
       "Noruega                 Oslo\n",
       "Egipto              El Cairo\n",
       "Nueva Zelanda     Wellington\n",
       "India            Nueva Delhi\n",
       "Canadá                Ottawa\n",
       "dtype: object"
      ]
     },
     "execution_count": 6,
     "metadata": {},
     "output_type": "execute_result"
    }
   ],
   "source": [
    "dicc_paises = { \n",
    "    \"Noruega\": \"Oslo\",\n",
    "    \"Egipto\": \"El Cairo\",\n",
    "    \"Nueva Zelanda\": \"Wellington\",\n",
    "    \"India\": \"Nueva Delhi\",\n",
    "    \"Canadá\": \"Ottawa\"\n",
    "}\n",
    "\n",
    "serie_dos = Series(dicc_paises)\n",
    "serie_dos"
   ]
  },
  {
   "cell_type": "markdown",
   "id": "0c239195",
   "metadata": {},
   "source": [
    "### **Actividad 2:** \n",
    "Acceso y selección de elementos.\n",
    "* Usa una Series con tareas (que haceres cotidianos) de una semana\n",
    "* Accede a diferentes elementos a elección.\n",
    "* Cambia los valores de los dias pares.\n"
   ]
  },
  {
   "cell_type": "code",
   "execution_count": 7,
   "id": "3611d25a",
   "metadata": {},
   "outputs": [
    {
     "data": {
      "text/plain": [
       "Lunes                           Ir al super\n",
       "Martes                 Estudiar matemáticas\n",
       "Miercoles                  Estar en familia\n",
       "Jueves                      Pasear al perro\n",
       "Viernes                   Ordenar mi cuarto\n",
       "Sábado                      Jugar jueguitos\n",
       "Domingo      Preparar comida para la semana\n",
       "dtype: object"
      ]
     },
     "execution_count": 7,
     "metadata": {},
     "output_type": "execute_result"
    }
   ],
   "source": [
    "\n",
    "# todo:\n",
    "\n",
    "dic_tareas = { \n",
    "    \"Lunes\": \"Ir al super\",\n",
    "    \"Martes\": \"Estudiar matemáticas\", \n",
    "    \"Miercoles\": \"Estar en familia\", \n",
    "    \"Jueves\": \"Pasear al perro\", \n",
    "    \"Viernes\": \"Ordenar mi cuarto\", \n",
    "    \"Sábado\": \"Jugar jueguitos\", \n",
    "    \"Domingo\": \"Preparar comida para la semana\"\n",
    "}\n",
    "\n",
    "serie_tres = Series(dic_tareas)\n",
    "serie_tres"
   ]
  },
  {
   "cell_type": "code",
   "execution_count": 8,
   "id": "d736bef9",
   "metadata": {},
   "outputs": [
    {
     "name": "stdout",
     "output_type": "stream",
     "text": [
      "Jugar jueguitos\n",
      "Estudiar matemáticas\n",
      "Preparar comida para la semana\n"
     ]
    }
   ],
   "source": [
    "print(serie_tres[\"Sábado\"])\n",
    "print(serie_tres[\"Martes\"])\n",
    "print(serie_tres[\"Domingo\"])"
   ]
  },
  {
   "cell_type": "code",
   "execution_count": 9,
   "id": "71bd20b7",
   "metadata": {},
   "outputs": [
    {
     "name": "stdout",
     "output_type": "stream",
     "text": [
      "Limpiar la pieza\n",
      "Hacer tarea\n",
      "Dormir\n"
     ]
    }
   ],
   "source": [
    "serie_tres[\"Martes\"] = \"Limpiar la pieza\"\n",
    "serie_tres[\"Jueves\"] = \"Hacer tarea\"\n",
    "serie_tres[\"Sábado\"] = \"Dormir\"\n",
    "\n",
    "print(serie_tres[\"Martes\"])\n",
    "print(serie_tres[\"Jueves\"])\n",
    "print(serie_tres[\"Sábado\"])"
   ]
  },
  {
   "cell_type": "markdown",
   "id": "70a24b97",
   "metadata": {},
   "source": [
    "### **Actividad 3:**\n",
    "Operaciones aritméticas. \n",
    "* Realiza las operaciones basicas con 2 series cuales quieran.\n",
    "* Eleva los valores de la primer serie a 3 potencias difetentes."
   ]
  },
  {
   "cell_type": "code",
   "execution_count": 14,
   "id": "a9c8ebc7",
   "metadata": {},
   "outputs": [
    {
     "name": "stdout",
     "output_type": "stream",
     "text": [
      "0    2\n",
      "1    3\n",
      "2    4\n",
      "3    5\n",
      "4    6\n",
      "dtype: int64\n",
      "0    12\n",
      "1    14\n",
      "2    16\n",
      "3    18\n",
      "4    20\n",
      "dtype: int64\n"
     ]
    }
   ],
   "source": [
    "# todo:\n",
    "\n",
    "serie_cuatro = Series([1,2,3,4,5])\n",
    "serie_cinco = Series([6,7,8,9,10])\n",
    "\n",
    "\n",
    "# * Operaciones\n",
    "\n",
    "print(serie_cuatro + 1)\n",
    "print(serie_cinco * 2)\n"
   ]
  },
  {
   "cell_type": "code",
   "execution_count": 15,
   "id": "d4168d00",
   "metadata": {},
   "outputs": [
    {
     "name": "stdout",
     "output_type": "stream",
     "text": [
      "0     1\n",
      "1     4\n",
      "2     9\n",
      "3    16\n",
      "4    25\n",
      "dtype: int64\n",
      "0      1\n",
      "1     16\n",
      "2     81\n",
      "3    256\n",
      "4    625\n",
      "dtype: int64\n",
      "0        1\n",
      "1       64\n",
      "2      729\n",
      "3     4096\n",
      "4    15625\n",
      "dtype: int64\n"
     ]
    }
   ],
   "source": [
    "print(serie_uno ** 2)\n",
    "print(serie_uno ** 4)\n",
    "print(serie_uno ** 6)"
   ]
  },
  {
   "cell_type": "markdown",
   "id": "b8dac397",
   "metadata": {},
   "source": [
    "### **Actividad 4:** \n",
    "Filtrado con condiciones.\n",
    "* Crea una Series de edades de 10 personas.\n",
    "* Muestra solo a los mayores de 18.\n",
    "* Reemplaza a los menores por \"Menor de edad\"."
   ]
  },
  {
   "cell_type": "code",
   "execution_count": 16,
   "id": "d04fd492",
   "metadata": {},
   "outputs": [
    {
     "data": {
      "text/plain": [
       "Camila       23\n",
       "Tomás        30\n",
       "Bruno        25\n",
       "Valentina    18\n",
       "Ignacio      21\n",
       "Renata       26\n",
       "Santiago     17\n",
       "Jazmín       15\n",
       "Franco       11\n",
       "Lola          7\n",
       "Thiago       13\n",
       "dtype: int64"
      ]
     },
     "execution_count": 16,
     "metadata": {},
     "output_type": "execute_result"
    }
   ],
   "source": [
    "\n",
    "# todo:\n",
    "\n",
    "dic_edades = {\n",
    "     \"Camila\": 23,\n",
    "    \"Tomás\": 30,\n",
    "    \"Bruno\": 25,\n",
    "    \"Valentina\": 18,\n",
    "    \"Ignacio\": 21,\n",
    "    \"Renata\": 26,\n",
    "    \"Santiago\": 17,\n",
    "    \"Jazmín\": 15,\n",
    "    \"Franco\": 11,\n",
    "    \"Lola\": 7,\n",
    "    \"Thiago\": 13\n",
    "}\n",
    "\n",
    "serie_seis = Series(dic_edades)\n",
    "serie_seis"
   ]
  },
  {
   "cell_type": "code",
   "execution_count": 17,
   "id": "c53a154d",
   "metadata": {},
   "outputs": [
    {
     "data": {
      "text/plain": [
       "Camila     23\n",
       "Tomás      30\n",
       "Bruno      25\n",
       "Ignacio    21\n",
       "Renata     26\n",
       "dtype: int64"
      ]
     },
     "execution_count": 17,
     "metadata": {},
     "output_type": "execute_result"
    }
   ],
   "source": [
    "personas_mayores_18 = serie_seis[serie_seis > 18]\n",
    "personas_mayores_18"
   ]
  },
  {
   "cell_type": "code",
   "execution_count": 18,
   "id": "1a53a60a",
   "metadata": {},
   "outputs": [
    {
     "data": {
      "text/plain": [
       "Camila                  23\n",
       "Tomás                   30\n",
       "Bruno                   25\n",
       "Valentina               18\n",
       "Ignacio                 21\n",
       "Renata                  26\n",
       "Santiago     Menor de edad\n",
       "Jazmín       Menor de edad\n",
       "Franco       Menor de edad\n",
       "Lola         Menor de edad\n",
       "Thiago       Menor de edad\n",
       "dtype: object"
      ]
     },
     "execution_count": 18,
     "metadata": {},
     "output_type": "execute_result"
    }
   ],
   "source": [
    "personas_etiqueta = serie_seis.where(serie_seis >= 18, \"Menor de edad\")\n",
    "personas_etiqueta "
   ]
  },
  {
   "cell_type": "markdown",
   "id": "8889d0f2",
   "metadata": {},
   "source": [
    "### Actividad 5:\n",
    "Estadísticas básicas.\n",
    "\n",
    "* Crea una Series con las notas de 10 estudiantes.\n",
    "* Calcula la media, mediana, desviación estándar y máximo.\n",
    "* Muestra cuántos estudiantes aprobaron si el mínimo para aprobar es 6.\n",
    "* Ordenar las notas de manera ascendente y descendente. "
   ]
  },
  {
   "cell_type": "code",
   "execution_count": 19,
   "id": "bc0ec844",
   "metadata": {},
   "outputs": [
    {
     "data": {
      "text/plain": [
       "Valeria     7\n",
       "Nicolás     6\n",
       "Emilia     10\n",
       "Facundo     9\n",
       "Julieta     5\n",
       "Martín      8\n",
       "Camila      6\n",
       "Agustín     7\n",
       "Olivia      9\n",
       "Lucas       8\n",
       "dtype: int64"
      ]
     },
     "execution_count": 19,
     "metadata": {},
     "output_type": "execute_result"
    }
   ],
   "source": [
    "\n",
    "# todo:\n",
    "\n",
    "dic_notas ={\n",
    "    \"Valeria\": 7,\n",
    "    \"Nicolás\": 6,\n",
    "    \"Emilia\": 10,\n",
    "    \"Facundo\": 9,\n",
    "    \"Julieta\": 5,\n",
    "    \"Martín\": 8,\n",
    "    \"Camila\": 6,\n",
    "    \"Agustín\": 7,\n",
    "    \"Olivia\": 9,\n",
    "    \"Lucas\": 8\n",
    "}\n",
    "\n",
    "serie_siete = Series(dic_notas)\n",
    "serie_siete\n"
   ]
  },
  {
   "cell_type": "code",
   "execution_count": 20,
   "id": "a6c58f17",
   "metadata": {},
   "outputs": [
    {
     "name": "stdout",
     "output_type": "stream",
     "text": [
      "La media es 7.5\n",
      "La mediana es 7.5\n",
      "La desviación estandard es 1.5811388300841898\n",
      "El valor máximo es 10\n"
     ]
    }
   ],
   "source": [
    "media = serie_siete.mean()\n",
    "mediana = serie_siete.median()\n",
    "std = serie_siete.std()\n",
    "maximo = serie_siete.max()\n",
    "\n",
    "\n",
    "print(f\"La media es {media}\")\n",
    "print(f\"La mediana es {mediana}\")\n",
    "print(f\"La desviación estandard es {std}\")\n",
    "print(f\"El valor máximo es {maximo}\")"
   ]
  },
  {
   "cell_type": "code",
   "execution_count": 21,
   "id": "dcb897f6",
   "metadata": {},
   "outputs": [
    {
     "data": {
      "text/plain": [
       "Valeria     7\n",
       "Nicolás     6\n",
       "Emilia     10\n",
       "Facundo     9\n",
       "Martín      8\n",
       "Camila      6\n",
       "Agustín     7\n",
       "Olivia      9\n",
       "Lucas       8\n",
       "dtype: int64"
      ]
     },
     "execution_count": 21,
     "metadata": {},
     "output_type": "execute_result"
    }
   ],
   "source": [
    "aprobados = serie_siete[serie_siete >= 6]\n",
    "aprobados "
   ]
  },
  {
   "cell_type": "code",
   "execution_count": 22,
   "id": "827858bc",
   "metadata": {},
   "outputs": [
    {
     "name": "stdout",
     "output_type": "stream",
     "text": [
      "cantidad de estudiantes aprobados: 9\n"
     ]
    }
   ],
   "source": [
    "cant_aprobados = (serie_siete >=6).sum()\n",
    "print(f\"cantidad de estudiantes aprobados: {cant_aprobados}\")"
   ]
  },
  {
   "cell_type": "code",
   "execution_count": 23,
   "id": "3d8df6fb",
   "metadata": {},
   "outputs": [
    {
     "data": {
      "text/plain": [
       "Julieta     5\n",
       "Nicolás     6\n",
       "Camila      6\n",
       "Valeria     7\n",
       "Agustín     7\n",
       "Martín      8\n",
       "Lucas       8\n",
       "Facundo     9\n",
       "Olivia      9\n",
       "Emilia     10\n",
       "dtype: int64"
      ]
     },
     "execution_count": 23,
     "metadata": {},
     "output_type": "execute_result"
    }
   ],
   "source": [
    "\n",
    "# * Ascendente\n",
    "\n",
    "notas_ascendente = serie_siete.sort_values()\n",
    "notas_ascendente\n"
   ]
  },
  {
   "cell_type": "code",
   "execution_count": 36,
   "id": "14ebac92",
   "metadata": {},
   "outputs": [
    {
     "data": {
      "text/plain": [
       "Lautaro    10\n",
       "Pedro       9\n",
       "Sofia       9\n",
       "María       8\n",
       "Juan        8\n",
       "Laia        8\n",
       "Diego       8\n",
       "Miguel      7\n",
       "Karen       6\n",
       "Pablo       5\n",
       "dtype: int64"
      ]
     },
     "execution_count": 36,
     "metadata": {},
     "output_type": "execute_result"
    }
   ],
   "source": [
    "# * Descendente\n",
    "\n",
    "notas_descendente = serie_siete.sort_values(ascending = False)\n",
    "notas_descendente"
   ]
  }
 ],
 "metadata": {
  "kernelspec": {
   "display_name": "venv",
   "language": "python",
   "name": "python3"
  },
  "language_info": {
   "codemirror_mode": {
    "name": "ipython",
    "version": 3
   },
   "file_extension": ".py",
   "mimetype": "text/x-python",
   "name": "python",
   "nbconvert_exporter": "python",
   "pygments_lexer": "ipython3",
   "version": "3.13.2"
  }
 },
 "nbformat": 4,
 "nbformat_minor": 5
}
